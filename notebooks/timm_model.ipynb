{
 "cells": [
  {
   "cell_type": "code",
   "execution_count": 1,
   "id": "likely-shape",
   "metadata": {},
   "outputs": [
    {
     "name": "stdout",
     "output_type": "stream",
     "text": [
      "/opt/src\n"
     ]
    }
   ],
   "source": [
    "cd /opt/src"
   ]
  },
  {
   "cell_type": "code",
   "execution_count": 1,
   "id": "honest-static",
   "metadata": {},
   "outputs": [],
   "source": [
    "%load_ext lab_black"
   ]
  },
  {
   "cell_type": "code",
   "execution_count": 2,
   "id": "modular-island",
   "metadata": {},
   "outputs": [
    {
     "name": "stdout",
     "output_type": "stream",
     "text": [
      "No CUDA runtime is found, using CUDA_HOME='/usr/local/cuda'\n"
     ]
    }
   ],
   "source": [
    "import torch\n",
    "import timm\n",
    "import torch.nn as nn\n",
    "\n",
    "from mmdet.models.builder import BACKBONES"
   ]
  },
  {
   "cell_type": "code",
   "execution_count": 3,
   "id": "naval-wesley",
   "metadata": {},
   "outputs": [],
   "source": [
    "@BACKBONES.register_module()\n",
    "class TIMMResNet(nn.Module):\n",
    "    timm_archs = {\n",
    "        18: \"resnet18\",\n",
    "        26: \"resnet26\",\n",
    "        34: \"resnet34\",\n",
    "        50: \"resnet50\",\n",
    "        101: \"resnet101d\",\n",
    "        152: \"resnet152d\",\n",
    "        200: \"resnet200d\",\n",
    "    }\n",
    "\n",
    "    def __init__(self, depth, out_indices, output_stride=8, pretrained=True):\n",
    "        super(TIMMResNet, self).__init__()\n",
    "        if depth not in self.timm_archs.keys():\n",
    "            raise KeyError(f\"invalid depth {depth} for resnet\")\n",
    "\n",
    "        self.model = timm.create_model(\n",
    "            self.timm_archs[depth],\n",
    "            features_only=True,\n",
    "            output_stride=output_stride,\n",
    "            out_indices=out_indices,\n",
    "            pretrained=pretrained,\n",
    "        )\n",
    "\n",
    "    def forward(self, x):\n",
    "        out = self.model(x)\n",
    "        return tuple(out)"
   ]
  },
  {
   "cell_type": "code",
   "execution_count": 4,
   "id": "residential-rally",
   "metadata": {},
   "outputs": [],
   "source": [
    "timm_res18 = TIMMResNet(depth=50, out_indices=(1, 2, 3, 4))"
   ]
  },
  {
   "cell_type": "code",
   "execution_count": 5,
   "id": "revised-trailer",
   "metadata": {},
   "outputs": [
    {
     "name": "stdout",
     "output_type": "stream",
     "text": [
      "torch.Size([1, 256, 75, 75])\n",
      "torch.Size([1, 512, 38, 38])\n",
      "torch.Size([1, 1024, 38, 38])\n",
      "torch.Size([1, 2048, 38, 38])\n"
     ]
    }
   ],
   "source": [
    "o = timm_res18(torch.randn(1, 3, 299, 299))\n",
    "for x in o:\n",
    "    print(x.shape)"
   ]
  },
  {
   "cell_type": "code",
   "execution_count": null,
   "id": "spectacular-physics",
   "metadata": {},
   "outputs": [],
   "source": []
  }
 ],
 "metadata": {
  "kernelspec": {
   "display_name": "Python 3",
   "language": "python",
   "name": "python3"
  },
  "language_info": {
   "codemirror_mode": {
    "name": "ipython",
    "version": 3
   },
   "file_extension": ".py",
   "mimetype": "text/x-python",
   "name": "python",
   "nbconvert_exporter": "python",
   "pygments_lexer": "ipython3",
   "version": "3.7.7"
  }
 },
 "nbformat": 4,
 "nbformat_minor": 5
}
